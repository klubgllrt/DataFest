{
  "nbformat": 4,
  "nbformat_minor": 0,
  "metadata": {
    "colab": {
      "name": "DataFest.ipynb",
      "version": "0.3.2",
      "provenance": []
    },
    "kernelspec": {
      "display_name": "Python 3",
      "language": "python",
      "name": "python3"
    }
  },
  "cells": [
    {
      "cell_type": "code",
      "metadata": {
        "id": "Ga-ReLfvxAEq",
        "colab_type": "code",
        "colab": {}
      },
      "source": [
        "import numpy as np\n",
        "import pandas as pd\n",
        "import csv\n",
        "from datetime import datetime, timedelta"
      ],
      "execution_count": 0,
      "outputs": []
    },
    {
      "cell_type": "code",
      "metadata": {
        "id": "Rx0bHeCSxAE4",
        "colab_type": "code",
        "colab": {}
      },
      "source": [
        "wellness['Games_Y'] = 0\n",
        "wellness['Combat_Y'] = 0\n",
        "wellness['Conditioning_Y'] = 0\n",
        "wellness['Recovery_Y'] = 0\n",
        "wellness['Skills_Y'] = 0\n",
        "wellness['Speed_Y'] = 0\n",
        "wellness['Strength_Y'] = 0\n",
        "wellness['Games_D'] = 0\n",
        "wellness['Combat_D'] = 0\n",
        "wellness['Conditioning_D'] = 0\n",
        "wellness['Recovery_D'] = 0\n",
        "wellness['Skills_D'] = 0\n",
        "wellness['Speed_D'] = 0\n",
        "wellness['Strength_D'] = 0\n",
        "wellness['DailyLoad'] = 0\n",
        "wellness['AcuteLoad'] = 0\n",
        "wellness['ChronicLoad'] = 0\n",
        "wellness['AcuteChronicRatio'] = 0\n",
        "wellness['BestOutofSelfTotal'] = 0\n",
        "wellness['NABestofSelf'] = 0\n",
        "wellness['RPETotal'] = 0\n",
        "wellness['ObjectiveRatingTotal'] = 0\n",
        "wellness['FocusRatingTotal'] = 0"
      ],
      "execution_count": 0,
      "outputs": []
    },
    {
      "cell_type": "code",
      "metadata": {
        "id": "Y44dlLh-xAE9",
        "colab_type": "code",
        "colab": {}
      },
      "source": [
        "bestSelf = {\"Not at all\": 0,\n",
        "            \"Absolutely\": 2,\n",
        "            \"Somewhat\": 1}"
      ],
      "execution_count": 0,
      "outputs": []
    },
    {
      "cell_type": "code",
      "metadata": {
        "id": "__QLK30mxAFD",
        "colab_type": "code",
        "colab": {}
      },
      "source": [
        "dateset = set()\n",
        "\n",
        "for date in wellness['Date']:\n",
        "    if date not in dateset:\n",
        "        check_date_dt = datetime.strptime(date, \"%Y-%m-%d\")-timedelta(1)\n",
        "        day, month, year = (check_date_dt).strftime(\"%d\"), (check_date_dt).strftime(\"%m\"), (check_date_dt).strftime(\"%Y\")\n",
        "        if (day[0] == \"0\"): day = day[1:]\n",
        "        if (month[0] == \"0\"): month = month[1:]\n",
        "        check_date = (check_date_dt).strftime(\"%Y-%m-%d\")\n",
        "        for player in wellness.loc[wellness['Date'] == date, 'PlayerID']:\n",
        "            rows = rpe[(rpe.Date == check_date) & (rpe.PlayerID == player)]\n",
        "            for idx, row in rows.iterrows():\n",
        "                session = row['SessionType']\n",
        "                if (session == 'Game'): \n",
        "                    wellness.loc[(wellness['Date'] == date) & (wellness['PlayerID'] == player), 'Games_Y'] += 1\n",
        "                    wellness.loc[(wellness['Date'] == date) & (wellness['PlayerID'] == player), 'Games_D'] += row['Duration']\n",
        "                if (session == 'Mobility/Recovery'): \n",
        "                    wellness.loc[(wellness['Date'] == date) & (wellness['PlayerID'] == player), 'Recovery_Y'] += 1\n",
        "                    wellness.loc[(wellness['Date'] == date) & (wellness['PlayerID'] == player), 'Recovery_D'] += row['Duration']\n",
        "                if (session == 'Skills'): \n",
        "                    wellness.loc[(wellness['Date'] == date) & (wellness['PlayerID'] == player), 'Skills_Y'] += 1\n",
        "                    wellness.loc[(wellness['Date'] == date) & (wellness['PlayerID'] == player), 'Skills_D'] += row['Duration']\n",
        "                if (session == 'Speed'): \n",
        "                    wellness.loc[(wellness['Date'] == date) & (wellness['PlayerID'] == player), 'Speed_Y'] += 1\n",
        "                    wellness.loc[(wellness['Date'] == date) & (wellness['PlayerID'] == player), 'Speed_D'] += row['Duration']\n",
        "                if (session == 'Strength'): \n",
        "                    wellness.loc[(wellness['Date'] == date) & (wellness['PlayerID'] == player), 'Strength_Y'] += 1\n",
        "                    wellness.loc[(wellness['Date'] == date) & (wellness['PlayerID'] == player), 'Strength_D'] += row['Duration']\n",
        "                if (session == 'Conditioning'): \n",
        "                    wellness.loc[(wellness['Date'] == date) & (wellness['PlayerID'] == player), 'Conditioning_Y'] += 1\n",
        "                    wellness.loc[(wellness['Date'] == date) & (wellness['PlayerID'] == player), 'Conditioning_D'] += row['Duration']\n",
        "                if (session == 'Combat'): \n",
        "                    wellness.loc[(wellness['Date'] == date) & (wellness['PlayerID'] == player), 'Combat_Y'] += 1\n",
        "                    wellness.loc[(wellness['Date'] == date) & (wellness['PlayerID'] == player), 'Combat_D'] += row['Duration']\n",
        "                if (row['AcuteLoad'] == row['AcuteLoad']):\n",
        "                    wellness.loc[(wellness['Date'] == date) & (wellness['PlayerID'] == player), 'AcuteLoad'] = row['AcuteLoad']\n",
        "                    wellness.loc[(wellness['Date'] == date) & (wellness['PlayerID'] == player), 'DailyLoad'] = row['DailyLoad']\n",
        "                    wellness.loc[(wellness['Date'] == date) & (wellness['PlayerID'] == player), 'ChronicLoad'] = row['ChronicLoad']\n",
        "                    wellness.loc[(wellness['Date'] == date) & (wellness['PlayerID'] == player), 'AcuteChronicRatio'] = row['AcuteChronicRatio']\n",
        "                if (row['BestOutOfMyself'] == row['BestOutOfMyself']):\n",
        "                    wellness.loc[(wellness['Date'] == date) & (wellness['PlayerID'] == player), 'BestOutofSelfTotal'] += bestSelf[row['BestOutOfMyself']]\n",
        "                else:\n",
        "                    wellness.loc[(wellness['Date'] == date) & (wellness['PlayerID'] == player), 'NABestofSelf'] += 1\n",
        "                if (row['RPE'] == row['RPE']):\n",
        "                    wellness.loc[(wellness['Date'] == date) & (wellness['PlayerID'] == player), 'RPETotal'] += row['RPE']\n",
        "                if (row['ObjectiveRating'] == row['ObjectiveRating']):\n",
        "                    wellness.loc[(wellness['Date'] == date) & (wellness['PlayerID'] == player), 'ObjectiveRatingTotal'] += row['ObjectiveRating']\n",
        "                if (row['FocusRating'] == row['FocusRating']):\n",
        "                    wellness.loc[(wellness['Date'] == date) & (wellness['PlayerID'] == player), 'FocusRatingTotal'] += row['FocusRating']\n",
        "        dateset.add(date)\n",
        "        \n",
        "        "
      ],
      "execution_count": 0,
      "outputs": []
    },
    {
      "cell_type": "code",
      "metadata": {
        "id": "npZjI-S5xAFI",
        "colab_type": "code",
        "colab": {}
      },
      "source": [
        "wellness.to_csv(\"new_wellness.csv\")"
      ],
      "execution_count": 0,
      "outputs": []
    }
  ]
}